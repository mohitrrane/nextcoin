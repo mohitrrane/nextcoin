{
 "cells": [
  {
   "cell_type": "code",
   "execution_count": 3,
   "metadata": {},
   "outputs": [],
   "source": [
    "# Importing Libraries\n",
    "import numpy as np\n",
    "import pandas as pd\n",
    "import matplotlib.pyplot as plt"
   ]
  },
  {
   "cell_type": "code",
   "execution_count": 5,
   "metadata": {},
   "outputs": [],
   "source": [
    "# Importing Dataset\n",
    "data = pd.read_csv('USDJPY-2019-01.csv', names=['pair', 'datetime', 'low', 'high'])\n",
    "data2 = pd.read_csv('USDJPY-2020-04.csv', names=['pair', 'datetime', 'low', 'high'])"
   ]
  },
  {
   "cell_type": "code",
   "execution_count": 18,
   "metadata": {},
   "outputs": [],
   "source": [
    "def merge_csv(file1,file2):\n",
    "    merged = pd.concat([file1, file2])\n",
    "    merged.to_csv(\"combined_file.csv\", index=None, header=None)"
   ]
  },
  {
   "cell_type": "code",
   "execution_count": 19,
   "metadata": {},
   "outputs": [],
   "source": [
    "merge_csv(data1,data2)"
   ]
  },
  {
   "cell_type": "code",
   "execution_count": 4,
   "metadata": {},
   "outputs": [],
   "source": [
    "class Indicators():\n",
    "    def __init__(self, data, macd_span_1, macd_span_2, rsi_rolling_window, williams_r_rolling_window):\n",
    "        # Last timestamp\n",
    "        last_ts = np.array(data[data.datetime<'20190101 22:06:15.567'].datetime.loc[-1:0])[0]\n",
    "        \n",
    "        self.data = data\n",
    "        self.datetime = data.datetime\n",
    "        self.macd = self.calcMACD(data, macd_span_1, macd_span_2)\n",
    "        self.rsi = self.calcRSI(data, rsi_rolling_window)\n",
    "        self.williams_r = self.calcWilliamsR(data, williams_r_rolling_window)\n",
    "    \n",
    "    def calcMACD(self, data, macd_span_1, macd_span_2):\n",
    "        data_span_1_ema = data.ewm(span=macd_span_1).mean()\n",
    "        data_span_2_ema = data.ewm(span=macd_span_2).mean()\n",
    "\n",
    "        macd_low = data_span_2_ema.low - data_span_1_ema.low\n",
    "        macd_high = data_span_2_ema.high - data_span_1_ema.high\n",
    "\n",
    "        return pd.DataFrame({'pair': data.pair, 'datetime': data.datetime, 'macd_low': macd_low, 'macd_high': macd_high})\n",
    "    \n",
    "    def calcRSI(self, data, rsi_rolling_window):\n",
    "        high = data.high.diff()\n",
    "        low = data.low.diff()\n",
    "\n",
    "        high_gain = high.copy()\n",
    "        high_gain[high_gain< 0] = 0\n",
    "\n",
    "        high_loss = high.copy()\n",
    "        high_loss[high_loss> 0] = 0\n",
    "\n",
    "        low_gain = low.copy()\n",
    "        low_gain[low_gain< 0] = 0\n",
    "\n",
    "        low_loss = low.copy()\n",
    "        low_loss[low_loss> 0] = 0\n",
    "\n",
    "        gain_loss_ratio_high = high_gain.rolling(rsi_rolling_window).mean()/high_loss.rolling(rsi_rolling_window).mean()\n",
    "        gain_loss_ratio_low = low_gain.rolling(rsi_rolling_window).mean()/low_loss.rolling(rsi_rolling_window).mean()\n",
    "\n",
    "        rsi_high = gain_loss_ratio_high.apply(lambda val: 100 - 100/(1+ np.abs(val)))\n",
    "        rsi_low = gain_loss_ratio_low.apply(lambda val: 100 - 100/(1+ np.abs(val)))\n",
    "\n",
    "        return pd.DataFrame({'pair': data.pair, 'datetime': data.datetime, 'rsi_low': rsi_low, 'rsi_high': rsi_high})\n",
    "    \n",
    "    def calcWilliamsR(self, data, williams_r_rolling_window):\n",
    "        williams_r_high = ((data.high.rolling(williams_r_rolling_window).max() - data.high)*100)/(data.high.rolling(williams_r_rolling_window).max()- data.high.rolling(williams_r_rolling_window).min())\n",
    "        williams_r_low = ((data.low.rolling(williams_r_rolling_window).max() - data.high)*100)/(data.low.rolling(williams_r_rolling_window).max()- data.low.rolling(williams_r_rolling_window).min())\n",
    "\n",
    "        return pd.DataFrame({'pair': data.pair, 'datetime': data.datetime, 'williams_r_low': williams_r_low, 'williams_r_high': williams_r_high})\n",
    "    \n",
    "    def returnIndicators(self, timestamp):\n",
    "        data = self.data\n",
    "        pair = data.pair[0]\n",
    "        timestamp = list(data.datetime[(data.datetime <= timestamp)])[-1]\n",
    "        \n",
    "        indicators = {\n",
    "            'pair': pair,\n",
    "            'datetime': timestamp,\n",
    "            'low': list(self.data[data.datetime == timestamp].low)[0],\n",
    "            'high': list(self.data[data.datetime == timestamp].high)[0],\n",
    "            'macd_low': list(self.macd[data.datetime == timestamp].macd_low)[0],\n",
    "            'macd_high': list(self.macd[data.datetime == timestamp].macd_high)[0],\n",
    "            'rsi_low': list(self.rsi[data.datetime == timestamp].rsi_low)[0],\n",
    "            'rsi_high': list(self.rsi[data.datetime == timestamp].rsi_high)[0],\n",
    "            'williams_r_low': list(self.williams_r[data.datetime == timestamp].williams_r_low)[0],\n",
    "            'williams_r_high': list(self.williams_r[data.datetime == timestamp].williams_r_high)[0]\n",
    "        }\n",
    "        return indicators"
   ]
  },
  {
   "cell_type": "code",
   "execution_count": 5,
   "metadata": {},
   "outputs": [],
   "source": [
    "ind = Indicators(data=data, macd_span_1=26, macd_span_2=12, rsi_rolling_window=100, williams_r_rolling_window=14)"
   ]
  },
  {
   "cell_type": "code",
   "execution_count": 6,
   "metadata": {},
   "outputs": [
    {
     "data": {
      "text/plain": [
       "{'pair': 'USD/JPY',\n",
       " 'datetime': '20190101 22:09:01.959',\n",
       " 'low': 109.63,\n",
       " 'high': 109.695,\n",
       " 'macd_low': -0.001175854001900234,\n",
       " 'macd_high': -0.000567599322906176,\n",
       " 'rsi_low': 50.57471264367829,\n",
       " 'rsi_high': 47.14285714284931,\n",
       " 'williams_r_low': -787.4999999988897,\n",
       " 'williams_r_high': 75.00000000017764}"
      ]
     },
     "execution_count": 6,
     "metadata": {},
     "output_type": "execute_result"
    }
   ],
   "source": [
    "ind.returnIndicators('20190101 22:09:01.959')"
   ]
  },
  {
   "cell_type": "code",
   "execution_count": null,
   "metadata": {},
   "outputs": [],
   "source": []
  }
 ],
 "metadata": {
  "kernelspec": {
   "display_name": "Python 3",
   "language": "python",
   "name": "python3"
  },
  "language_info": {
   "codemirror_mode": {
    "name": "ipython",
    "version": 3
   },
   "file_extension": ".py",
   "mimetype": "text/x-python",
   "name": "python",
   "nbconvert_exporter": "python",
   "pygments_lexer": "ipython3",
   "version": "3.8.2"
  }
 },
 "nbformat": 4,
 "nbformat_minor": 2
}
